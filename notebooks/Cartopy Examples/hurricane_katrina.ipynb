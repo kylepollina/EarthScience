{
 "cells": [
  {
   "cell_type": "markdown",
   "metadata": {},
   "source": [
    "Hurricane Katrina\n",
    "-----------------\n",
    "\n",
    "This is an example notebook taken and annotated from the [Cartopy](https://scitools.org.uk/cartopy/docs/latest/index.html) example gallery:\n",
    "\n",
    "[https://scitools.org.uk/cartopy/docs/latest/gallery/hurricane_katrina.html#sphx-glr-gallery-hurricane-katrina-py](https://scitools.org.uk/cartopy/docs/latest/gallery/hurricane_katrina.html#sphx-glr-gallery-hurricane-katrina-py)"
   ]
  },
  {
   "cell_type": "code",
   "execution_count": 2,
   "metadata": {},
   "outputs": [],
   "source": [
    "import matplotlib.patches as mpatches\n",
    "import matplotlib.pyplot as plt\n",
    "import shapely.geometry as sgeom\n",
    "\n",
    "import cartopy.crs as ccrs\n",
    "import cartopy.io.shapereader as shpreader"
   ]
  },
  {
   "cell_type": "code",
   "execution_count": 1,
   "metadata": {
    "pycharm": {
     "name": "#%%\n"
    }
   },
   "outputs": [],
   "source": [
    "\"\"\"\n",
    "List of latitudes and a list of longitudes (lons, lats)\n",
    "for Hurricane Katrina (2005).\n",
    "\n",
    "The data was originally sourced from the HURDAT2 dataset from AOML/NOAA:\n",
    "https://www.aoml.noaa.gov/hrd/hurdat/newhurdat-all.html on 14th Dec 2012.\n",
    "\n",
    "\"\"\"\n",
    "lons = [-75.1, -75.7, -76.2, -76.5, -76.9, -77.7, -78.4, -79.0,\n",
    "        -79.6, -80.1, -80.3, -81.3, -82.0, -82.6, -83.3, -84.0,\n",
    "        -84.7, -85.3, -85.9, -86.7, -87.7, -88.6, -89.2, -89.6,\n",
    "        -89.6, -89.6, -89.6, -89.6, -89.1, -88.6, -88.0, -87.0,\n",
    "        -85.3, -82.9]\n",
    "\n",
    "lats = [23.1, 23.4, 23.8, 24.5, 25.4, 26.0, 26.1, 26.2, 26.2, 26.0,\n",
    "        25.9, 25.4, 25.1, 24.9, 24.6, 24.4, 24.4, 24.5, 24.8, 25.2,\n",
    "\n",
    "        25.7, 26.3, 27.2, 28.2, 29.3, 29.5, 30.2, 31.1, 32.6, 34.1,\n",
    "        35.6, 37.0, 38.6, 40.1]"
   ]
  },
  {
   "cell_type": "code",
   "execution_count": 2,
   "metadata": {
    "pycharm": {
     "name": "#%%\n"
    }
   },
   "outputs": [
    {
     "ename": "NameError",
     "evalue": "name 'plt' is not defined",
     "output_type": "error",
     "traceback": [
      "\u001B[0;31m---------------------------------------------------------------------------\u001B[0m",
      "\u001B[0;31mNameError\u001B[0m                                 Traceback (most recent call last)",
      "\u001B[0;32m<ipython-input-2-1cd20d6ad86e>\u001B[0m in \u001B[0;36m<module>\u001B[0;34m\u001B[0m\n\u001B[0;32m----> 1\u001B[0;31m \u001B[0mfig\u001B[0m \u001B[0;34m=\u001B[0m \u001B[0mplt\u001B[0m\u001B[0;34m.\u001B[0m\u001B[0mfigure\u001B[0m\u001B[0;34m(\u001B[0m\u001B[0;34m)\u001B[0m\u001B[0;34m\u001B[0m\u001B[0;34m\u001B[0m\u001B[0m\n\u001B[0m\u001B[1;32m      2\u001B[0m \u001B[0;31m# to get the effect of having just the states without a map \"background\"\u001B[0m\u001B[0;34m\u001B[0m\u001B[0;34m\u001B[0m\u001B[0;34m\u001B[0m\u001B[0m\n\u001B[1;32m      3\u001B[0m \u001B[0;31m# turn off the background patch and axes frame\u001B[0m\u001B[0;34m\u001B[0m\u001B[0;34m\u001B[0m\u001B[0;34m\u001B[0m\u001B[0m\n\u001B[1;32m      4\u001B[0m ax = fig.add_axes([0, 0, 1, 1], projection=ccrs.LambertConformal(),\n\u001B[1;32m      5\u001B[0m               frameon=False)\n",
      "\u001B[0;31mNameError\u001B[0m: name 'plt' is not defined"
     ]
    }
   ],
   "source": [
    "fig = plt.figure()\n",
    "# to get the effect of having just the states without a map \"background\"\n",
    "# turn off the background patch and axes frame\n",
    "ax = fig.add_axes([0, 0, 1, 1], projection=ccrs.LambertConformal(),\n",
    "              frameon=False)\n",
    "\n",
    "ax.set_extent([-125, -66.5, 20, 50], ccrs.Geodetic())\n",
    "\n",
    "shapename = 'admin_1_states_provinces_lakes_shp'\n",
    "states_shp = shpreader.natural_earth(\n",
    "    resolution='110m',\n",
    "    category='cultural',\n",
    "    name=shapename\n",
    ")\n",
    "\n",
    "# turn the lons and lats into a shapely LineString\n",
    "track = sgeom.LineString(zip(lons, lats))\n",
    "\n",
    "# buffer the linestring by two degrees (note: this is a non-physical\n",
    "# distance)\n",
    "track_buffer = track.buffer(2)\n",
    "\n",
    "def colorize_state(geometry):\n",
    "    \"\"\" Colors the States that intersect the Hurricane track \"\"\"\n",
    "    facecolor = (0.9375, 0.9375, 0.859375)\n",
    "    if geometry.intersects(track):\n",
    "        facecolor = 'red'\n",
    "    elif geometry.intersects(track_buffer):\n",
    "        facecolor = '#FF7E00'\n",
    "    return {'facecolor': facecolor, 'edgecolor': 'black'}\n",
    "\n",
    "################\n",
    "\"\"\" Statemap \"\"\"\n",
    "################\n",
    "\n",
    "ax.add_geometries(\n",
    "    shpreader.Reader(states_shp).geometries(),\n",
    "    ccrs.PlateCarree(),\n",
    "    styler=colorize_state\n",
    ")\n",
    "\n",
    "#######################\n",
    "\"\"\" Hurricane Track \"\"\"\n",
    "#######################\n",
    "\n",
    "ax.add_geometries(\n",
    "    [track_buffer],\n",
    "    ccrs.PlateCarree(),\n",
    "    facecolor='#C8A2C8',\n",
    "    alpha=0.5\n",
    ")\n",
    "\n",
    "ax.add_geometries(\n",
    "   [track],\n",
    "    ccrs.PlateCarree(),\n",
    "    facecolor='none',\n",
    "    edgecolor='white'\n",
    ")\n",
    "\n",
    "##############\n",
    "\"\"\" Legend \"\"\"\n",
    "##############\n",
    "\n",
    "ax.set_title('US States which intersect the track of '\n",
    "             'Hurricane Katrina (2005)')\n",
    "\n",
    "# make two proxy artists to add to a legend\n",
    "direct_hit = mpatches.Rectangle((0, 0), 1, 1, facecolor=\"red\")\n",
    "within_2_deg = mpatches.Rectangle((0, 0), 1, 1, facecolor=\"#FF7E00\")\n",
    "\n",
    "labels = ['State directly intersects\\nwith track',\n",
    "          'State is within \\n2 degrees of track']\n",
    "\n",
    "ax.legend(\n",
    "    [direct_hit, within_2_deg],\n",
    "    labels,\n",
    "    loc='lower left',\n",
    "    bbox_to_anchor=(0.025, -0.1),\n",
    "    fancybox=True\n",
    ")\n",
    "\n",
    "plt.show()"
   ]
  }
 ],
 "metadata": {
  "kernelspec": {
   "name": "python3",
   "language": "python",
   "display_name": "Python 3"
  },
  "language_info": {
   "codemirror_mode": {
    "name": "ipython",
    "version": 3
   },
   "file_extension": ".py",
   "mimetype": "text/x-python",
   "name": "python",
   "nbconvert_exporter": "python",
   "pygments_lexer": "ipython3",
   "version": "3.9.1"
  }
 },
 "nbformat": 4,
 "nbformat_minor": 1
}