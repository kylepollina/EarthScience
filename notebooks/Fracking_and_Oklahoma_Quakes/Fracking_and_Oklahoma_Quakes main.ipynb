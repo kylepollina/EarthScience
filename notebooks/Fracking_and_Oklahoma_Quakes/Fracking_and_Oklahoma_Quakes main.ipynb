{
 "cells": [
  {
   "cell_type": "markdown",
   "metadata": {},
   "source": [
    "### (IN PROGRESS)"
   ]
  },
  {
   "cell_type": "markdown",
   "metadata": {},
   "source": [
    "# Fracking and Oklahoma Quakes analysis\n",
    "\n",
    "In this analysis, I will be looking at the dataset [Oklahoma Earthquakes and Saltwater Injection Wells](https://www.kaggle.com/ksuchris2000/oklahoma-earthquakes-and-saltwater-injection-wells) to see if I can find any correlation between the earthquakes and the use of [Injection Wells](https://en.wikipedia.org/wiki/Injection_well)"
   ]
  },
  {
   "cell_type": "markdown",
   "metadata": {},
   "source": [
    "### Preface"
   ]
  },
  {
   "cell_type": "code",
   "execution_count": 1,
   "metadata": {},
   "outputs": [
    {
     "data": {
      "text/plain": "DataTransformerRegistry.enable('data_server')"
     },
     "execution_count": 1,
     "metadata": {},
     "output_type": "execute_result"
    }
   ],
   "source": [
    "from datetime import datetime\n",
    "import pandas as pd\n",
    "import altair as alt\n",
    "\n",
    "alt.renderers.enable('altair_viewer')\n",
    "alt.data_transformers.enable('data_server')"
   ]
  },
  {
   "cell_type": "markdown",
   "metadata": {},
   "source": [
    "http://www.ogs.ou.edu/pubsscanned/openfile/OF1_2014_Murray.pdf"
   ]
  },
  {
   "cell_type": "markdown",
   "metadata": {},
   "source": [
    "### Preprocessing"
   ]
  },
  {
   "cell_type": "markdown",
   "metadata": {},
   "source": [
    "Source: https://www.kaggle.com/ksuchris2000/oklahoma-earthquakes-and-saltwater-injection-wells"
   ]
  },
  {
   "cell_type": "code",
   "execution_count": 2,
   "metadata": {},
   "outputs": [
    {
     "data": {
      "text/plain": "                             Operator WellType            WellName  \\\n0                      XTO ENERGY INC       2R      HEWITT UNIT 22   \n1           GATEWAY RESOURCES USA INC       2R          ANDY BROWN   \n2      WHITE MONTY & TERRY PRODUCTION       2D       ROLLER, B. H.   \n3              CIRCLE 9 RESOURCES LLC       2R      SCHOOL LAND 66   \n4              CIRCLE 9 RESOURCES LLC       2R      SCHOOL LAND 66   \n...                               ...      ...                 ...   \n11056  CITATION OIL & GAS CORPORATION       2R  COX PENN SAND UNIT   \n11057    COMPLETE ENERGY SERVICES INC      CDW         SEILING SWD   \n11058       URBAN OIL & GAS GROUP LLC       2R         GLADYS LOVE   \n11059         BROWER OIL & GAS CO INC       2D                REED   \n11060        TRANSCONTINENTAL COMPANY       2R            RICHARDS   \n\n      Approval Date      County        LAT       LONG    PSI   BBLS  \n0        1936-12-18      CARTER  34.199067 -97.399092  1,100  3,500  \n1        1945-04-22  WASHINGTON  36.901903 -95.900888    NaN    NaN  \n2        1946-10-19     LINCOLN  35.511472 -96.767417      0    100  \n3        1947-03-18      PAWNEE  36.164978 -96.717249    NaN    NaN  \n4        1947-03-18      PAWNEE  36.167568 -96.722799    NaN    NaN  \n...             ...         ...        ...        ...    ...    ...  \n11056    2017-08-30      CARTER  34.373645 -97.399878  1,500    999  \n11057    2017-08-30       DEWEY  36.146649 -98.934932  1,635  5,000  \n11058    2017-08-30     MCCLAIN  34.919795 -97.421550  3,500    500  \n11059    2017-08-30    OKMULGEE  35.475614 -95.911700    400    500  \n11060    2017-08-30      CARTER  34.342695 -97.542820    225    500  \n\n[11061 rows x 9 columns]",
      "text/html": "<div>\n<style scoped>\n    .dataframe tbody tr th:only-of-type {\n        vertical-align: middle;\n    }\n\n    .dataframe tbody tr th {\n        vertical-align: top;\n    }\n\n    .dataframe thead th {\n        text-align: right;\n    }\n</style>\n<table border=\"1\" class=\"dataframe\">\n  <thead>\n    <tr style=\"text-align: right;\">\n      <th></th>\n      <th>Operator</th>\n      <th>WellType</th>\n      <th>WellName</th>\n      <th>Approval Date</th>\n      <th>County</th>\n      <th>LAT</th>\n      <th>LONG</th>\n      <th>PSI</th>\n      <th>BBLS</th>\n    </tr>\n  </thead>\n  <tbody>\n    <tr>\n      <th>0</th>\n      <td>XTO ENERGY INC</td>\n      <td>2R</td>\n      <td>HEWITT UNIT 22</td>\n      <td>1936-12-18</td>\n      <td>CARTER</td>\n      <td>34.199067</td>\n      <td>-97.399092</td>\n      <td>1,100</td>\n      <td>3,500</td>\n    </tr>\n    <tr>\n      <th>1</th>\n      <td>GATEWAY RESOURCES USA INC</td>\n      <td>2R</td>\n      <td>ANDY BROWN</td>\n      <td>1945-04-22</td>\n      <td>WASHINGTON</td>\n      <td>36.901903</td>\n      <td>-95.900888</td>\n      <td>NaN</td>\n      <td>NaN</td>\n    </tr>\n    <tr>\n      <th>2</th>\n      <td>WHITE MONTY &amp; TERRY PRODUCTION</td>\n      <td>2D</td>\n      <td>ROLLER, B. H.</td>\n      <td>1946-10-19</td>\n      <td>LINCOLN</td>\n      <td>35.511472</td>\n      <td>-96.767417</td>\n      <td>0</td>\n      <td>100</td>\n    </tr>\n    <tr>\n      <th>3</th>\n      <td>CIRCLE 9 RESOURCES LLC</td>\n      <td>2R</td>\n      <td>SCHOOL LAND 66</td>\n      <td>1947-03-18</td>\n      <td>PAWNEE</td>\n      <td>36.164978</td>\n      <td>-96.717249</td>\n      <td>NaN</td>\n      <td>NaN</td>\n    </tr>\n    <tr>\n      <th>4</th>\n      <td>CIRCLE 9 RESOURCES LLC</td>\n      <td>2R</td>\n      <td>SCHOOL LAND 66</td>\n      <td>1947-03-18</td>\n      <td>PAWNEE</td>\n      <td>36.167568</td>\n      <td>-96.722799</td>\n      <td>NaN</td>\n      <td>NaN</td>\n    </tr>\n    <tr>\n      <th>...</th>\n      <td>...</td>\n      <td>...</td>\n      <td>...</td>\n      <td>...</td>\n      <td>...</td>\n      <td>...</td>\n      <td>...</td>\n      <td>...</td>\n      <td>...</td>\n    </tr>\n    <tr>\n      <th>11056</th>\n      <td>CITATION OIL &amp; GAS CORPORATION</td>\n      <td>2R</td>\n      <td>COX PENN SAND UNIT</td>\n      <td>2017-08-30</td>\n      <td>CARTER</td>\n      <td>34.373645</td>\n      <td>-97.399878</td>\n      <td>1,500</td>\n      <td>999</td>\n    </tr>\n    <tr>\n      <th>11057</th>\n      <td>COMPLETE ENERGY SERVICES INC</td>\n      <td>CDW</td>\n      <td>SEILING SWD</td>\n      <td>2017-08-30</td>\n      <td>DEWEY</td>\n      <td>36.146649</td>\n      <td>-98.934932</td>\n      <td>1,635</td>\n      <td>5,000</td>\n    </tr>\n    <tr>\n      <th>11058</th>\n      <td>URBAN OIL &amp; GAS GROUP LLC</td>\n      <td>2R</td>\n      <td>GLADYS LOVE</td>\n      <td>2017-08-30</td>\n      <td>MCCLAIN</td>\n      <td>34.919795</td>\n      <td>-97.421550</td>\n      <td>3,500</td>\n      <td>500</td>\n    </tr>\n    <tr>\n      <th>11059</th>\n      <td>BROWER OIL &amp; GAS CO INC</td>\n      <td>2D</td>\n      <td>REED</td>\n      <td>2017-08-30</td>\n      <td>OKMULGEE</td>\n      <td>35.475614</td>\n      <td>-95.911700</td>\n      <td>400</td>\n      <td>500</td>\n    </tr>\n    <tr>\n      <th>11060</th>\n      <td>TRANSCONTINENTAL COMPANY</td>\n      <td>2R</td>\n      <td>RICHARDS</td>\n      <td>2017-08-30</td>\n      <td>CARTER</td>\n      <td>34.342695</td>\n      <td>-97.542820</td>\n      <td>225</td>\n      <td>500</td>\n    </tr>\n  </tbody>\n</table>\n<p>11061 rows × 9 columns</p>\n</div>"
     },
     "execution_count": 2,
     "metadata": {},
     "output_type": "execute_result"
    }
   ],
   "source": [
    "wells_data = pd.read_csv('data_fracking/InjectionWells.csv')\n",
    "\n",
    "wells_data = wells_data.drop(columns=[\n",
    "    'Operator ID', 'WellNumber', 'OrderNumbers', 'Sec', 'Twp', 'Rng', 'QQQQ',\n",
    "    'ZONE', 'Unnamed: 18', 'Unnamed: 19', 'Unnamed: 20', 'API#'\n",
    "])\n",
    "\n",
    "# Drop outlier datapoints\n",
    "wells_data = wells_data[wells_data['LONG'] < -95]\n",
    "wells_data = wells_data[wells_data['LONG'] > -105]\n",
    "\n",
    "wells_data['Approval Date'] = pd.to_datetime(wells_data['Approval Date'])\n",
    "wells_data = wells_data.sort_values('Approval Date').reset_index().drop(columns=['index'])\n",
    "wells_data"
   ]
  },
  {
   "cell_type": "code",
   "execution_count": 29,
   "metadata": {},
   "outputs": [
    {
     "name": "stdout",
     "output_type": "stream",
     "text": [
      "Displaying chart at http://localhost:18304/\n"
     ]
    }
   ],
   "source": [
    "wells_plot = alt.Chart(wells_data.reset_index()).mark_area().encode(\n",
    "   x=alt.X('Approval Date', type='temporal'),\n",
    "   y=alt.Y('index', type='quantitative', title='Number of Wells'),\n",
    ").properties(\n",
    "    width=800, title='Total Wells Over Time'\n",
    ")\n",
    "wells_plot.show()"
   ]
  },
  {
   "cell_type": "code",
   "execution_count": 3,
   "outputs": [
    {
     "data": {
      "text/plain": "                                  time   latitude   longitude  depth   mag  \\\n0     1973-03-17 07:43:05.500000+00:00  36.087000 -106.168000   6.00  4.50   \n1     1973-05-25 14:40:13.900000+00:00  33.917000  -90.775000   6.00   NaN   \n2     1973-09-19 13:28:20.500000+00:00  37.160000 -104.594000   5.00   NaN   \n3     1973-09-23 03:58:54.900000+00:00  37.148000 -104.571000   5.00  4.20   \n4     1974-02-15 13:33:49.200000+00:00  36.500000 -100.693000  24.00  4.50   \n...                                ...        ...         ...    ...   ...   \n13949 2016-09-20 05:38:38.350000+00:00  36.373500  -96.818700   4.69  2.30   \n13950 2016-09-20 06:36:35.520000+00:00  36.412200  -96.882400   4.41  1.40   \n13951 2016-09-20 16:01:08.610000+00:00  37.277167  -98.072667   5.85  2.43   \n13952 2016-09-20 17:31:48.380000+00:00  36.939300  -97.896000   2.32  3.00   \n13953 2016-09-20 17:45:59.920000+00:00  36.940500  -97.906300   7.20  2.50   \n\n      magType   nst    gap     dmin   rms  ...                   updated  \\\n0          mb   NaN    NaN      NaN   NaN  ...  2014-11-06T23:21:10.078Z   \n1         NaN   NaN    NaN      NaN   NaN  ...  2014-11-06T23:21:12.859Z   \n2         NaN   NaN    NaN      NaN   NaN  ...  2014-11-06T23:21:20.295Z   \n3          mb   NaN    NaN      NaN   NaN  ...  2014-11-06T23:21:20.346Z   \n4          mb   NaN    NaN      NaN   NaN  ...  2014-11-06T23:21:22.859Z   \n...       ...   ...    ...      ...   ...  ...                       ...   \n13949      ml   NaN   54.0  0.01800  0.16  ...  2016-09-20T16:13:04.040Z   \n13950      ml   NaN   59.0  0.02500  0.18  ...  2016-09-20T16:21:03.040Z   \n13951      ml  15.0  237.0  0.05185  0.04  ...  2016-09-20T19:08:23.720Z   \n13952   mb_lg   NaN   37.0  0.05600  0.18  ...  2016-09-20T17:43:43.040Z   \n13953   mb_lg   NaN   39.0  0.04800  0.35  ...  2016-09-20T19:48:57.396Z   \n\n                              place        type horizontalError depthError  \\\n0                        New Mexico  earthquake             NaN        NaN   \n1                       Mississippi  earthquake             NaN        NaN   \n2                          Colorado  earthquake             NaN        NaN   \n3                          Colorado  earthquake             NaN        NaN   \n4                          Oklahoma  earthquake             NaN        NaN   \n...                             ...         ...             ...        ...   \n13949   4km NNW of Pawnee, Oklahoma  earthquake            0.90       1.80   \n13950   10km NW of Pawnee, Oklahoma  earthquake            0.80       2.00   \n13951     4km WSW of Harper, Kansas  earthquake            0.38       0.33   \n13952  20km NW of Medford, Oklahoma  earthquake            1.00       3.70   \n13953  21km NW of Medford, Oklahoma  earthquake            1.00       3.40   \n\n       magError  magNst    status  locationSource magSource  \n0           NaN     NaN  reviewed              us        us  \n1           NaN     NaN  reviewed               s        us  \n2           NaN     NaN  reviewed              us        us  \n3           NaN     NaN  reviewed              us        us  \n4           NaN     NaN  reviewed              us        us  \n...         ...     ...       ...             ...       ...  \n13949     0.059    38.0  reviewed              us        us  \n13950     0.062    34.0  reviewed              us        us  \n13951     0.179    17.0  reviewed            ismp      ismp  \n13952     0.076    45.0  reviewed              us        us  \n13953     0.170     9.0  reviewed              us        us  \n\n[13946 rows x 22 columns]",
      "text/html": "<div>\n<style scoped>\n    .dataframe tbody tr th:only-of-type {\n        vertical-align: middle;\n    }\n\n    .dataframe tbody tr th {\n        vertical-align: top;\n    }\n\n    .dataframe thead th {\n        text-align: right;\n    }\n</style>\n<table border=\"1\" class=\"dataframe\">\n  <thead>\n    <tr style=\"text-align: right;\">\n      <th></th>\n      <th>time</th>\n      <th>latitude</th>\n      <th>longitude</th>\n      <th>depth</th>\n      <th>mag</th>\n      <th>magType</th>\n      <th>nst</th>\n      <th>gap</th>\n      <th>dmin</th>\n      <th>rms</th>\n      <th>...</th>\n      <th>updated</th>\n      <th>place</th>\n      <th>type</th>\n      <th>horizontalError</th>\n      <th>depthError</th>\n      <th>magError</th>\n      <th>magNst</th>\n      <th>status</th>\n      <th>locationSource</th>\n      <th>magSource</th>\n    </tr>\n  </thead>\n  <tbody>\n    <tr>\n      <th>0</th>\n      <td>1973-03-17 07:43:05.500000+00:00</td>\n      <td>36.087000</td>\n      <td>-106.168000</td>\n      <td>6.00</td>\n      <td>4.50</td>\n      <td>mb</td>\n      <td>NaN</td>\n      <td>NaN</td>\n      <td>NaN</td>\n      <td>NaN</td>\n      <td>...</td>\n      <td>2014-11-06T23:21:10.078Z</td>\n      <td>New Mexico</td>\n      <td>earthquake</td>\n      <td>NaN</td>\n      <td>NaN</td>\n      <td>NaN</td>\n      <td>NaN</td>\n      <td>reviewed</td>\n      <td>us</td>\n      <td>us</td>\n    </tr>\n    <tr>\n      <th>1</th>\n      <td>1973-05-25 14:40:13.900000+00:00</td>\n      <td>33.917000</td>\n      <td>-90.775000</td>\n      <td>6.00</td>\n      <td>NaN</td>\n      <td>NaN</td>\n      <td>NaN</td>\n      <td>NaN</td>\n      <td>NaN</td>\n      <td>NaN</td>\n      <td>...</td>\n      <td>2014-11-06T23:21:12.859Z</td>\n      <td>Mississippi</td>\n      <td>earthquake</td>\n      <td>NaN</td>\n      <td>NaN</td>\n      <td>NaN</td>\n      <td>NaN</td>\n      <td>reviewed</td>\n      <td>s</td>\n      <td>us</td>\n    </tr>\n    <tr>\n      <th>2</th>\n      <td>1973-09-19 13:28:20.500000+00:00</td>\n      <td>37.160000</td>\n      <td>-104.594000</td>\n      <td>5.00</td>\n      <td>NaN</td>\n      <td>NaN</td>\n      <td>NaN</td>\n      <td>NaN</td>\n      <td>NaN</td>\n      <td>NaN</td>\n      <td>...</td>\n      <td>2014-11-06T23:21:20.295Z</td>\n      <td>Colorado</td>\n      <td>earthquake</td>\n      <td>NaN</td>\n      <td>NaN</td>\n      <td>NaN</td>\n      <td>NaN</td>\n      <td>reviewed</td>\n      <td>us</td>\n      <td>us</td>\n    </tr>\n    <tr>\n      <th>3</th>\n      <td>1973-09-23 03:58:54.900000+00:00</td>\n      <td>37.148000</td>\n      <td>-104.571000</td>\n      <td>5.00</td>\n      <td>4.20</td>\n      <td>mb</td>\n      <td>NaN</td>\n      <td>NaN</td>\n      <td>NaN</td>\n      <td>NaN</td>\n      <td>...</td>\n      <td>2014-11-06T23:21:20.346Z</td>\n      <td>Colorado</td>\n      <td>earthquake</td>\n      <td>NaN</td>\n      <td>NaN</td>\n      <td>NaN</td>\n      <td>NaN</td>\n      <td>reviewed</td>\n      <td>us</td>\n      <td>us</td>\n    </tr>\n    <tr>\n      <th>4</th>\n      <td>1974-02-15 13:33:49.200000+00:00</td>\n      <td>36.500000</td>\n      <td>-100.693000</td>\n      <td>24.00</td>\n      <td>4.50</td>\n      <td>mb</td>\n      <td>NaN</td>\n      <td>NaN</td>\n      <td>NaN</td>\n      <td>NaN</td>\n      <td>...</td>\n      <td>2014-11-06T23:21:22.859Z</td>\n      <td>Oklahoma</td>\n      <td>earthquake</td>\n      <td>NaN</td>\n      <td>NaN</td>\n      <td>NaN</td>\n      <td>NaN</td>\n      <td>reviewed</td>\n      <td>us</td>\n      <td>us</td>\n    </tr>\n    <tr>\n      <th>...</th>\n      <td>...</td>\n      <td>...</td>\n      <td>...</td>\n      <td>...</td>\n      <td>...</td>\n      <td>...</td>\n      <td>...</td>\n      <td>...</td>\n      <td>...</td>\n      <td>...</td>\n      <td>...</td>\n      <td>...</td>\n      <td>...</td>\n      <td>...</td>\n      <td>...</td>\n      <td>...</td>\n      <td>...</td>\n      <td>...</td>\n      <td>...</td>\n      <td>...</td>\n      <td>...</td>\n    </tr>\n    <tr>\n      <th>13949</th>\n      <td>2016-09-20 05:38:38.350000+00:00</td>\n      <td>36.373500</td>\n      <td>-96.818700</td>\n      <td>4.69</td>\n      <td>2.30</td>\n      <td>ml</td>\n      <td>NaN</td>\n      <td>54.0</td>\n      <td>0.01800</td>\n      <td>0.16</td>\n      <td>...</td>\n      <td>2016-09-20T16:13:04.040Z</td>\n      <td>4km NNW of Pawnee, Oklahoma</td>\n      <td>earthquake</td>\n      <td>0.90</td>\n      <td>1.80</td>\n      <td>0.059</td>\n      <td>38.0</td>\n      <td>reviewed</td>\n      <td>us</td>\n      <td>us</td>\n    </tr>\n    <tr>\n      <th>13950</th>\n      <td>2016-09-20 06:36:35.520000+00:00</td>\n      <td>36.412200</td>\n      <td>-96.882400</td>\n      <td>4.41</td>\n      <td>1.40</td>\n      <td>ml</td>\n      <td>NaN</td>\n      <td>59.0</td>\n      <td>0.02500</td>\n      <td>0.18</td>\n      <td>...</td>\n      <td>2016-09-20T16:21:03.040Z</td>\n      <td>10km NW of Pawnee, Oklahoma</td>\n      <td>earthquake</td>\n      <td>0.80</td>\n      <td>2.00</td>\n      <td>0.062</td>\n      <td>34.0</td>\n      <td>reviewed</td>\n      <td>us</td>\n      <td>us</td>\n    </tr>\n    <tr>\n      <th>13951</th>\n      <td>2016-09-20 16:01:08.610000+00:00</td>\n      <td>37.277167</td>\n      <td>-98.072667</td>\n      <td>5.85</td>\n      <td>2.43</td>\n      <td>ml</td>\n      <td>15.0</td>\n      <td>237.0</td>\n      <td>0.05185</td>\n      <td>0.04</td>\n      <td>...</td>\n      <td>2016-09-20T19:08:23.720Z</td>\n      <td>4km WSW of Harper, Kansas</td>\n      <td>earthquake</td>\n      <td>0.38</td>\n      <td>0.33</td>\n      <td>0.179</td>\n      <td>17.0</td>\n      <td>reviewed</td>\n      <td>ismp</td>\n      <td>ismp</td>\n    </tr>\n    <tr>\n      <th>13952</th>\n      <td>2016-09-20 17:31:48.380000+00:00</td>\n      <td>36.939300</td>\n      <td>-97.896000</td>\n      <td>2.32</td>\n      <td>3.00</td>\n      <td>mb_lg</td>\n      <td>NaN</td>\n      <td>37.0</td>\n      <td>0.05600</td>\n      <td>0.18</td>\n      <td>...</td>\n      <td>2016-09-20T17:43:43.040Z</td>\n      <td>20km NW of Medford, Oklahoma</td>\n      <td>earthquake</td>\n      <td>1.00</td>\n      <td>3.70</td>\n      <td>0.076</td>\n      <td>45.0</td>\n      <td>reviewed</td>\n      <td>us</td>\n      <td>us</td>\n    </tr>\n    <tr>\n      <th>13953</th>\n      <td>2016-09-20 17:45:59.920000+00:00</td>\n      <td>36.940500</td>\n      <td>-97.906300</td>\n      <td>7.20</td>\n      <td>2.50</td>\n      <td>mb_lg</td>\n      <td>NaN</td>\n      <td>39.0</td>\n      <td>0.04800</td>\n      <td>0.35</td>\n      <td>...</td>\n      <td>2016-09-20T19:48:57.396Z</td>\n      <td>21km NW of Medford, Oklahoma</td>\n      <td>earthquake</td>\n      <td>1.00</td>\n      <td>3.40</td>\n      <td>0.170</td>\n      <td>9.0</td>\n      <td>reviewed</td>\n      <td>us</td>\n      <td>us</td>\n    </tr>\n  </tbody>\n</table>\n<p>13946 rows × 22 columns</p>\n</div>"
     },
     "execution_count": 3,
     "metadata": {},
     "output_type": "execute_result"
    }
   ],
   "source": [
    "quakes_data = pd.read_csv('data_fracking/okQuakes.csv')\n",
    "quakes_data = quakes_data[quakes_data['type'] == 'earthquake']\n",
    "quakes_data['time'] = pd.to_datetime(quakes_data['time'])\n",
    "quakes_data = quakes_data.sort_values(by='time')\n",
    "quakes_data"
   ],
   "metadata": {
    "collapsed": false,
    "pycharm": {
     "name": "#%%\n"
    }
   }
  },
  {
   "cell_type": "code",
   "execution_count": null,
   "outputs": [],
   "source": [
    "import matplotlib.pyplot as plt"
   ],
   "metadata": {
    "collapsed": false,
    "pycharm": {
     "name": "#%%\n"
    }
   }
  },
  {
   "cell_type": "code",
   "execution_count": 5,
   "outputs": [
    {
     "name": "stdout",
     "output_type": "stream",
     "text": [
      "Displaying chart at http://localhost:18304/\n"
     ]
    },
    {
     "ename": "KeyboardInterrupt",
     "evalue": "",
     "output_type": "error",
     "traceback": [
      "\u001B[0;31m---------------------------------------------------------------------------\u001B[0m",
      "\u001B[0;31mKeyboardInterrupt\u001B[0m                         Traceback (most recent call last)",
      "\u001B[0;32m<ipython-input-5-6354240a5981>\u001B[0m in \u001B[0;36m<module>\u001B[0;34m\u001B[0m\n\u001B[1;32m     13\u001B[0m )\n\u001B[1;32m     14\u001B[0m \u001B[0;34m\u001B[0m\u001B[0m\n\u001B[0;32m---> 15\u001B[0;31m \u001B[0mstatemap\u001B[0m\u001B[0;34m.\u001B[0m\u001B[0mshow\u001B[0m\u001B[0;34m(\u001B[0m\u001B[0;34m)\u001B[0m\u001B[0;34m\u001B[0m\u001B[0;34m\u001B[0m\u001B[0m\n\u001B[0m\u001B[1;32m     16\u001B[0m \u001B[0;34m\u001B[0m\u001B[0m\n",
      "\u001B[0;32m~/projects/earthscience/notebooks/env/lib/python3.9/site-packages/altair/vegalite/v4/api.py\u001B[0m in \u001B[0;36mshow\u001B[0;34m(self, embed_opt, open_browser)\u001B[0m\n\u001B[1;32m   1768\u001B[0m                 \u001B[0;34m\"See http://github.com/altair-viz/altair_viewer\"\u001B[0m\u001B[0;34m\u001B[0m\u001B[0;34m\u001B[0m\u001B[0m\n\u001B[1;32m   1769\u001B[0m             )\n\u001B[0;32m-> 1770\u001B[0;31m         \u001B[0maltair_viewer\u001B[0m\u001B[0;34m.\u001B[0m\u001B[0mshow\u001B[0m\u001B[0;34m(\u001B[0m\u001B[0mself\u001B[0m\u001B[0;34m,\u001B[0m \u001B[0membed_opt\u001B[0m\u001B[0;34m=\u001B[0m\u001B[0membed_opt\u001B[0m\u001B[0;34m,\u001B[0m \u001B[0mopen_browser\u001B[0m\u001B[0;34m=\u001B[0m\u001B[0mopen_browser\u001B[0m\u001B[0;34m)\u001B[0m\u001B[0;34m\u001B[0m\u001B[0;34m\u001B[0m\u001B[0m\n\u001B[0m\u001B[1;32m   1771\u001B[0m \u001B[0;34m\u001B[0m\u001B[0m\n\u001B[1;32m   1772\u001B[0m     \u001B[0;34m@\u001B[0m\u001B[0mutils\u001B[0m\u001B[0;34m.\u001B[0m\u001B[0muse_signature\u001B[0m\u001B[0;34m(\u001B[0m\u001B[0mcore\u001B[0m\u001B[0;34m.\u001B[0m\u001B[0mResolve\u001B[0m\u001B[0;34m)\u001B[0m\u001B[0;34m\u001B[0m\u001B[0;34m\u001B[0m\u001B[0m\n",
      "\u001B[0;32m~/projects/earthscience/notebooks/env/lib/python3.9/site-packages/altair_viewer/_viewer.py\u001B[0m in \u001B[0;36mshow\u001B[0;34m(self, chart, embed_opt, open_browser)\u001B[0m\n\u001B[1;32m    356\u001B[0m         \u001B[0mprint\u001B[0m\u001B[0;34m(\u001B[0m\u001B[0mmsg\u001B[0m\u001B[0;34m)\u001B[0m\u001B[0;34m\u001B[0m\u001B[0;34m\u001B[0m\u001B[0m\n\u001B[1;32m    357\u001B[0m         \u001B[0;32mif\u001B[0m \u001B[0mself\u001B[0m\u001B[0;34m.\u001B[0m\u001B[0m_provider\u001B[0m \u001B[0;32mis\u001B[0m \u001B[0;32mnot\u001B[0m \u001B[0;32mNone\u001B[0m\u001B[0;34m:\u001B[0m\u001B[0;34m\u001B[0m\u001B[0;34m\u001B[0m\u001B[0m\n\u001B[0;32m--> 358\u001B[0;31m             \u001B[0mself\u001B[0m\u001B[0;34m.\u001B[0m\u001B[0m_provider\u001B[0m\u001B[0;34m.\u001B[0m\u001B[0m_disconnect_event\u001B[0m\u001B[0;34m.\u001B[0m\u001B[0mwait\u001B[0m\u001B[0;34m(\u001B[0m\u001B[0;34m)\u001B[0m\u001B[0;34m\u001B[0m\u001B[0;34m\u001B[0m\u001B[0m\n\u001B[0m",
      "\u001B[0;32m/Library/Frameworks/Python.framework/Versions/3.9/lib/python3.9/threading.py\u001B[0m in \u001B[0;36mwait\u001B[0;34m(self, timeout)\u001B[0m\n\u001B[1;32m    572\u001B[0m             \u001B[0msignaled\u001B[0m \u001B[0;34m=\u001B[0m \u001B[0mself\u001B[0m\u001B[0;34m.\u001B[0m\u001B[0m_flag\u001B[0m\u001B[0;34m\u001B[0m\u001B[0;34m\u001B[0m\u001B[0m\n\u001B[1;32m    573\u001B[0m             \u001B[0;32mif\u001B[0m \u001B[0;32mnot\u001B[0m \u001B[0msignaled\u001B[0m\u001B[0;34m:\u001B[0m\u001B[0;34m\u001B[0m\u001B[0;34m\u001B[0m\u001B[0m\n\u001B[0;32m--> 574\u001B[0;31m                 \u001B[0msignaled\u001B[0m \u001B[0;34m=\u001B[0m \u001B[0mself\u001B[0m\u001B[0;34m.\u001B[0m\u001B[0m_cond\u001B[0m\u001B[0;34m.\u001B[0m\u001B[0mwait\u001B[0m\u001B[0;34m(\u001B[0m\u001B[0mtimeout\u001B[0m\u001B[0;34m)\u001B[0m\u001B[0;34m\u001B[0m\u001B[0;34m\u001B[0m\u001B[0m\n\u001B[0m\u001B[1;32m    575\u001B[0m             \u001B[0;32mreturn\u001B[0m \u001B[0msignaled\u001B[0m\u001B[0;34m\u001B[0m\u001B[0;34m\u001B[0m\u001B[0m\n\u001B[1;32m    576\u001B[0m \u001B[0;34m\u001B[0m\u001B[0m\n",
      "\u001B[0;32m/Library/Frameworks/Python.framework/Versions/3.9/lib/python3.9/threading.py\u001B[0m in \u001B[0;36mwait\u001B[0;34m(self, timeout)\u001B[0m\n\u001B[1;32m    310\u001B[0m         \u001B[0;32mtry\u001B[0m\u001B[0;34m:\u001B[0m    \u001B[0;31m# restore state no matter what (e.g., KeyboardInterrupt)\u001B[0m\u001B[0;34m\u001B[0m\u001B[0;34m\u001B[0m\u001B[0m\n\u001B[1;32m    311\u001B[0m             \u001B[0;32mif\u001B[0m \u001B[0mtimeout\u001B[0m \u001B[0;32mis\u001B[0m \u001B[0;32mNone\u001B[0m\u001B[0;34m:\u001B[0m\u001B[0;34m\u001B[0m\u001B[0;34m\u001B[0m\u001B[0m\n\u001B[0;32m--> 312\u001B[0;31m                 \u001B[0mwaiter\u001B[0m\u001B[0;34m.\u001B[0m\u001B[0macquire\u001B[0m\u001B[0;34m(\u001B[0m\u001B[0;34m)\u001B[0m\u001B[0;34m\u001B[0m\u001B[0;34m\u001B[0m\u001B[0m\n\u001B[0m\u001B[1;32m    313\u001B[0m                 \u001B[0mgotit\u001B[0m \u001B[0;34m=\u001B[0m \u001B[0;32mTrue\u001B[0m\u001B[0;34m\u001B[0m\u001B[0;34m\u001B[0m\u001B[0m\n\u001B[1;32m    314\u001B[0m             \u001B[0;32melse\u001B[0m\u001B[0;34m:\u001B[0m\u001B[0;34m\u001B[0m\u001B[0;34m\u001B[0m\u001B[0m\n",
      "\u001B[0;31mKeyboardInterrupt\u001B[0m: "
     ]
    }
   ],
   "source": [
    "states_url = 'https://raw.githubusercontent.com/kylepollina/Fracking_and_Oklahoma_Quakes/master/states.json'\n",
    "states = alt.topo_feature(url=states_url, feature='us')\n",
    "\n",
    "statemap = alt.Chart(states).mark_geoshape(\n",
    "    fill = 'lightgrey',\n",
    "    stroke = 'white'\n",
    ").properties(\n",
    "    width = 800,\n",
    "    height = 400\n",
    ")\n",
    "\n",
    "statemap.show()"
   ],
   "metadata": {
    "collapsed": false,
    "pycharm": {
     "name": "#%%\n"
    }
   }
  },
  {
   "cell_type": "code",
   "execution_count": null,
   "outputs": [
    {
     "name": "stdout",
     "output_type": "stream",
     "text": [
      "Displaying chart at http://localhost:18304/\n"
     ]
    }
   ],
   "source": [
    "\n",
    "quake_points = alt.Chart(quakes_data).mark_circle().encode(\n",
    "    latitude='latitude',\n",
    "    longitude='longitude'\n",
    ")\n",
    "\n",
    "well_points = alt.Chart(wells_data).mark_circle().encode(\n",
    "    latitude='LAT',\n",
    "    longitude='LONG',\n",
    "    color=alt.value('red'),\n",
    ").properties(width=1000,height=500)\n",
    "\n",
    "(statemap + quake_points + well_points).show()"
   ],
   "metadata": {
    "collapsed": false,
    "pycharm": {
     "name": "#%%\n",
     "is_executing": true
    }
   }
  },
  {
   "cell_type": "markdown",
   "metadata": {},
   "source": [
    "## Mapping"
   ]
  },
  {
   "cell_type": "markdown",
   "metadata": {},
   "source": [
    "Now let's take a look at where the wells are, and where the quakes are on a map."
   ]
  },
  {
   "cell_type": "code",
   "execution_count": 44,
   "metadata": {},
   "outputs": [
    {
     "data": {
      "text/plain": "Displaying chart at http://localhost:22310/",
      "text/html": "Displaying chart at <a href='http://localhost:22310/' target='_blank'>http://localhost:22310/</a>"
     },
     "execution_count": 44,
     "metadata": {},
     "output_type": "execute_result"
    }
   ],
   "source": [
    "states_url = 'https://raw.githubusercontent.com/kylepollina/Fracking_and_Oklahoma_Quakes/master/states.json'\n",
    "# states_url = 'https://raw.githubusercontent.com/deldersveld/topojson/master/countries/united-states/us-albers.json'\n",
    "states = alt.topo_feature(url=states_url, feature='us')\n",
    "\n",
    "statemap = alt.Chart(states).mark_geoshape(\n",
    "    fill='lightgrey',\n",
    "    stroke='white'\n",
    ").properties(\n",
    "    width=800,\n",
    "    height=400\n",
    ").interactive()\n",
    "\n",
    "statemap"
   ]
  },
  {
   "cell_type": "code",
   "execution_count": 20,
   "outputs": [
    {
     "name": "stdout",
     "output_type": "stream",
     "text": [
      "Displaying chart at http://localhost:18304/\n"
     ]
    },
    {
     "ename": "KeyboardInterrupt",
     "evalue": "",
     "output_type": "error",
     "traceback": [
      "\u001B[0;31m---------------------------------------------------------------------------\u001B[0m",
      "\u001B[0;31mKeyboardInterrupt\u001B[0m                         Traceback (most recent call last)",
      "\u001B[0;32m<ipython-input-20-50b7f7dc5a57>\u001B[0m in \u001B[0;36m<module>\u001B[0;34m\u001B[0m\n\u001B[0;32m----> 1\u001B[0;31m \u001B[0malt\u001B[0m\u001B[0;34m.\u001B[0m\u001B[0mChart\u001B[0m\u001B[0;34m(\u001B[0m\u001B[0mwells_data\u001B[0m\u001B[0;34m)\u001B[0m\u001B[0;34m.\u001B[0m\u001B[0mmark_point\u001B[0m\u001B[0;34m(\u001B[0m\u001B[0;34m)\u001B[0m\u001B[0;34m.\u001B[0m\u001B[0mencode\u001B[0m\u001B[0;34m(\u001B[0m\u001B[0mx\u001B[0m\u001B[0;34m=\u001B[0m\u001B[0;34m'Approval Date:T'\u001B[0m\u001B[0;34m)\u001B[0m\u001B[0;34m.\u001B[0m\u001B[0mshow\u001B[0m\u001B[0;34m(\u001B[0m\u001B[0;34m)\u001B[0m\u001B[0;34m\u001B[0m\u001B[0;34m\u001B[0m\u001B[0m\n\u001B[0m\u001B[1;32m      2\u001B[0m \u001B[0;34m\u001B[0m\u001B[0m\n",
      "\u001B[0;32m~/projects/earthscience/notebooks/env/lib/python3.9/site-packages/altair/vegalite/v4/api.py\u001B[0m in \u001B[0;36mshow\u001B[0;34m(self, embed_opt, open_browser)\u001B[0m\n\u001B[1;32m   1768\u001B[0m                 \u001B[0;34m\"See http://github.com/altair-viz/altair_viewer\"\u001B[0m\u001B[0;34m\u001B[0m\u001B[0;34m\u001B[0m\u001B[0m\n\u001B[1;32m   1769\u001B[0m             )\n\u001B[0;32m-> 1770\u001B[0;31m         \u001B[0maltair_viewer\u001B[0m\u001B[0;34m.\u001B[0m\u001B[0mshow\u001B[0m\u001B[0;34m(\u001B[0m\u001B[0mself\u001B[0m\u001B[0;34m,\u001B[0m \u001B[0membed_opt\u001B[0m\u001B[0;34m=\u001B[0m\u001B[0membed_opt\u001B[0m\u001B[0;34m,\u001B[0m \u001B[0mopen_browser\u001B[0m\u001B[0;34m=\u001B[0m\u001B[0mopen_browser\u001B[0m\u001B[0;34m)\u001B[0m\u001B[0;34m\u001B[0m\u001B[0;34m\u001B[0m\u001B[0m\n\u001B[0m\u001B[1;32m   1771\u001B[0m \u001B[0;34m\u001B[0m\u001B[0m\n\u001B[1;32m   1772\u001B[0m     \u001B[0;34m@\u001B[0m\u001B[0mutils\u001B[0m\u001B[0;34m.\u001B[0m\u001B[0muse_signature\u001B[0m\u001B[0;34m(\u001B[0m\u001B[0mcore\u001B[0m\u001B[0;34m.\u001B[0m\u001B[0mResolve\u001B[0m\u001B[0;34m)\u001B[0m\u001B[0;34m\u001B[0m\u001B[0;34m\u001B[0m\u001B[0m\n",
      "\u001B[0;32m~/projects/earthscience/notebooks/env/lib/python3.9/site-packages/altair_viewer/_viewer.py\u001B[0m in \u001B[0;36mshow\u001B[0;34m(self, chart, embed_opt, open_browser)\u001B[0m\n\u001B[1;32m    356\u001B[0m         \u001B[0mprint\u001B[0m\u001B[0;34m(\u001B[0m\u001B[0mmsg\u001B[0m\u001B[0;34m)\u001B[0m\u001B[0;34m\u001B[0m\u001B[0;34m\u001B[0m\u001B[0m\n\u001B[1;32m    357\u001B[0m         \u001B[0;32mif\u001B[0m \u001B[0mself\u001B[0m\u001B[0;34m.\u001B[0m\u001B[0m_provider\u001B[0m \u001B[0;32mis\u001B[0m \u001B[0;32mnot\u001B[0m \u001B[0;32mNone\u001B[0m\u001B[0;34m:\u001B[0m\u001B[0;34m\u001B[0m\u001B[0;34m\u001B[0m\u001B[0m\n\u001B[0;32m--> 358\u001B[0;31m             \u001B[0mself\u001B[0m\u001B[0;34m.\u001B[0m\u001B[0m_provider\u001B[0m\u001B[0;34m.\u001B[0m\u001B[0m_disconnect_event\u001B[0m\u001B[0;34m.\u001B[0m\u001B[0mwait\u001B[0m\u001B[0;34m(\u001B[0m\u001B[0;34m)\u001B[0m\u001B[0;34m\u001B[0m\u001B[0;34m\u001B[0m\u001B[0m\n\u001B[0m",
      "\u001B[0;32m/Library/Frameworks/Python.framework/Versions/3.9/lib/python3.9/threading.py\u001B[0m in \u001B[0;36mwait\u001B[0;34m(self, timeout)\u001B[0m\n\u001B[1;32m    572\u001B[0m             \u001B[0msignaled\u001B[0m \u001B[0;34m=\u001B[0m \u001B[0mself\u001B[0m\u001B[0;34m.\u001B[0m\u001B[0m_flag\u001B[0m\u001B[0;34m\u001B[0m\u001B[0;34m\u001B[0m\u001B[0m\n\u001B[1;32m    573\u001B[0m             \u001B[0;32mif\u001B[0m \u001B[0;32mnot\u001B[0m \u001B[0msignaled\u001B[0m\u001B[0;34m:\u001B[0m\u001B[0;34m\u001B[0m\u001B[0;34m\u001B[0m\u001B[0m\n\u001B[0;32m--> 574\u001B[0;31m                 \u001B[0msignaled\u001B[0m \u001B[0;34m=\u001B[0m \u001B[0mself\u001B[0m\u001B[0;34m.\u001B[0m\u001B[0m_cond\u001B[0m\u001B[0;34m.\u001B[0m\u001B[0mwait\u001B[0m\u001B[0;34m(\u001B[0m\u001B[0mtimeout\u001B[0m\u001B[0;34m)\u001B[0m\u001B[0;34m\u001B[0m\u001B[0;34m\u001B[0m\u001B[0m\n\u001B[0m\u001B[1;32m    575\u001B[0m             \u001B[0;32mreturn\u001B[0m \u001B[0msignaled\u001B[0m\u001B[0;34m\u001B[0m\u001B[0;34m\u001B[0m\u001B[0m\n\u001B[1;32m    576\u001B[0m \u001B[0;34m\u001B[0m\u001B[0m\n",
      "\u001B[0;32m/Library/Frameworks/Python.framework/Versions/3.9/lib/python3.9/threading.py\u001B[0m in \u001B[0;36mwait\u001B[0;34m(self, timeout)\u001B[0m\n\u001B[1;32m    310\u001B[0m         \u001B[0;32mtry\u001B[0m\u001B[0;34m:\u001B[0m    \u001B[0;31m# restore state no matter what (e.g., KeyboardInterrupt)\u001B[0m\u001B[0;34m\u001B[0m\u001B[0;34m\u001B[0m\u001B[0m\n\u001B[1;32m    311\u001B[0m             \u001B[0;32mif\u001B[0m \u001B[0mtimeout\u001B[0m \u001B[0;32mis\u001B[0m \u001B[0;32mNone\u001B[0m\u001B[0;34m:\u001B[0m\u001B[0;34m\u001B[0m\u001B[0;34m\u001B[0m\u001B[0m\n\u001B[0;32m--> 312\u001B[0;31m                 \u001B[0mwaiter\u001B[0m\u001B[0;34m.\u001B[0m\u001B[0macquire\u001B[0m\u001B[0;34m(\u001B[0m\u001B[0;34m)\u001B[0m\u001B[0;34m\u001B[0m\u001B[0;34m\u001B[0m\u001B[0m\n\u001B[0m\u001B[1;32m    313\u001B[0m                 \u001B[0mgotit\u001B[0m \u001B[0;34m=\u001B[0m \u001B[0;32mTrue\u001B[0m\u001B[0;34m\u001B[0m\u001B[0;34m\u001B[0m\u001B[0m\n\u001B[1;32m    314\u001B[0m             \u001B[0;32melse\u001B[0m\u001B[0;34m:\u001B[0m\u001B[0;34m\u001B[0m\u001B[0;34m\u001B[0m\u001B[0m\n",
      "\u001B[0;31mKeyboardInterrupt\u001B[0m: "
     ]
    }
   ],
   "source": [],
   "metadata": {
    "collapsed": false,
    "pycharm": {
     "name": "#%%\n"
    }
   }
  },
  {
   "cell_type": "code",
   "execution_count": 28,
   "metadata": {},
   "outputs": [],
   "source": [
    "quake_points = alt.Chart(quakes_data).mark_circle().encode(\n",
    "    latitude = 'latitude',\n",
    "    longitude = 'longitude'\n",
    ")\n",
    "\n",
    "well_points = alt.Chart(wells_data.reset_index()).mark_circle().encode(\n",
    "    latitude='LAT',\n",
    "    longitude='LONG',\n",
    "    color=alt.value('red'),\n",
    "    tooltip='LONG'\n",
    ").properties(width=1000,height=500)"
   ]
  },
  {
   "cell_type": "markdown",
   "metadata": {},
   "source": [
    "As you can see, the well data focuses mainly on wells within Oklahoma. There are a lot of wells here. "
   ]
  },
  {
   "cell_type": "markdown",
   "metadata": {},
   "source": [
    "## Looking at the Wells"
   ]
  },
  {
   "cell_type": "markdown",
   "metadata": {},
   "source": [
    "Looking at the wells data, there are 5 different types of wells. Lets see if they look to have any correlation with the number of earthquakes."
   ]
  },
  {
   "cell_type": "code",
   "execution_count": null,
   "metadata": {},
   "outputs": [],
   "source": [
    "# # # well_type_plot = alt.Chart(wells).mark_line().encode(\n",
    "# # #     x='time:T',\n",
    "# # #     y='well_count:Q',\n",
    "# # #     color='WellType:N'\n",
    "# # # )\n",
    "# # #\n",
    "# # (well_type_plot + quakes_plot).properties(width=800, height=400) & quakes_plot\n",
    "# #\n",
    "#"
   ]
  },
  {
   "cell_type": "code",
   "execution_count": null,
   "metadata": {},
   "outputs": [],
   "source": [
    "# # alt.Chart(wells).mark_bar().encode(\n",
    "# #     x='time:T',\n",
    "# #     y='count()',\n",
    "# # ).properties(width=800, height=500).interactive()\n",
    "# #\n",
    "#"
   ]
  },
  {
   "cell_type": "code",
   "execution_count": null,
   "metadata": {},
   "outputs": [],
   "source": []
  },
  {
   "cell_type": "code",
   "execution_count": null,
   "metadata": {},
   "outputs": [],
   "source": []
  }
 ],
 "metadata": {
  "kernelspec": {
   "name": "pycharm-77f5979f",
   "language": "python",
   "display_name": "PyCharm (notebooks)"
  },
  "language_info": {
   "codemirror_mode": {
    "name": "ipython",
    "version": 3
   },
   "file_extension": ".py",
   "mimetype": "text/x-python",
   "name": "python",
   "nbconvert_exporter": "python",
   "pygments_lexer": "ipython3",
   "version": "3.9.0"
  }
 },
 "nbformat": 4,
 "nbformat_minor": 4
}